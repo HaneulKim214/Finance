{
 "cells": [
  {
   "cell_type": "code",
   "execution_count": 5,
   "id": "13029221",
   "metadata": {},
   "outputs": [],
   "source": [
    "import sys\n",
    "import numpy as np\n",
    "import pandas as pd\n",
    "\n",
    "import tensorflow as tf"
   ]
  },
  {
   "cell_type": "code",
   "execution_count": 3,
   "id": "b7957dd2",
   "metadata": {},
   "outputs": [
    {
     "name": "stdout",
     "output_type": "stream",
     "text": [
      "3.7.11 (default, Jul 27 2021, 09:42:29) [MSC v.1916 64 bit (AMD64)]\n"
     ]
    }
   ],
   "source": [
    "print(sys.version)"
   ]
  },
  {
   "cell_type": "code",
   "execution_count": 10,
   "id": "866c3d4d",
   "metadata": {},
   "outputs": [],
   "source": [
    "arr = np.random.randint(10, size=10)"
   ]
  },
  {
   "cell_type": "code",
   "execution_count": 12,
   "id": "c7a1380f",
   "metadata": {},
   "outputs": [],
   "source": [
    "ds = tf.data.Dataset.from_tensor_slices(arr)"
   ]
  },
  {
   "cell_type": "code",
   "execution_count": 31,
   "id": "078621cb",
   "metadata": {},
   "outputs": [
    {
     "name": "stdout",
     "output_type": "stream",
     "text": [
      "tf.Tensor(7, shape=(), dtype=int32)\n",
      "tf.Tensor(4, shape=(), dtype=int32)\n",
      "tf.Tensor(4, shape=(), dtype=int32)\n",
      "tf.Tensor(4, shape=(), dtype=int32)\n",
      "tf.Tensor(5, shape=(), dtype=int32)\n",
      "tf.Tensor(4, shape=(), dtype=int32)\n",
      "tf.Tensor(0, shape=(), dtype=int32)\n",
      "tf.Tensor(7, shape=(), dtype=int32)\n",
      "tf.Tensor(2, shape=(), dtype=int32)\n",
      "tf.Tensor(1, shape=(), dtype=int32)\n",
      "38\n"
     ]
    }
   ],
   "source": [
    "n = 0\n",
    "for e in ds:\n",
    "    n += e.numpy()\n",
    "    print(e)\n",
    "print(n)"
   ]
  },
  {
   "cell_type": "code",
   "execution_count": 14,
   "id": "a73e60b0",
   "metadata": {},
   "outputs": [
    {
     "data": {
      "text/plain": [
       "1"
      ]
     },
     "execution_count": 14,
     "metadata": {},
     "output_type": "execute_result"
    }
   ],
   "source": [
    "e.numpy()"
   ]
  },
  {
   "cell_type": "code",
   "execution_count": 26,
   "id": "a015b949",
   "metadata": {},
   "outputs": [
    {
     "data": {
      "text/plain": [
       "tensorflow.python.data.ops.iterator_ops.OwnedIterator"
      ]
     },
     "execution_count": 26,
     "metadata": {},
     "output_type": "execute_result"
    }
   ],
   "source": [
    "type(iter(ds))"
   ]
  },
  {
   "cell_type": "code",
   "execution_count": 27,
   "id": "45533a5b",
   "metadata": {},
   "outputs": [
    {
     "data": {
      "text/plain": [
       "tensorflow.python.data.ops.dataset_ops.TensorSliceDataset"
      ]
     },
     "execution_count": 27,
     "metadata": {},
     "output_type": "execute_result"
    }
   ],
   "source": [
    "type(ds)"
   ]
  },
  {
   "cell_type": "code",
   "execution_count": 51,
   "id": "2a354365",
   "metadata": {},
   "outputs": [
    {
     "name": "stdout",
     "output_type": "stream",
     "text": [
      "- - - - - - - - ds2 - - - - - - - -\n",
      "tf.Tensor(\n",
      "[[0.47324824 0.5358292  0.68424356 0.6670543  0.39903927 0.74895215\n",
      "  0.02241492 0.7940999  0.96831155 0.3296466 ]\n",
      " [0.90393615 0.21639478 0.00346696 0.00973201 0.59110105 0.6534457\n",
      "  0.34532034 0.44684315 0.7754146  0.75971067]\n",
      " [0.05918646 0.92768335 0.08951044 0.5959326  0.1223489  0.64387894\n",
      "  0.623575   0.88988674 0.25609267 0.93290424]\n",
      " [0.13810718 0.28943217 0.4182005  0.46913886 0.93926716 0.7865521\n",
      "  0.10096097 0.37386072 0.5458963  0.89973044]], shape=(4, 10), dtype=float32)\n",
      "- - - - - - - - ds3 - - - - - - - -\n",
      "(<tf.Tensor: shape=(4,), dtype=float32, numpy=array([0.19898903, 0.833717  , 0.17857337, 0.19229329], dtype=float32)>, <tf.Tensor: shape=(4, 4), dtype=int32, numpy=\n",
      "array([[72, 98, 32, 86],\n",
      "       [80,  9, 44,  6],\n",
      "       [70, 44, 42, 35],\n",
      "       [21, 42, 71, 76]])>)\n"
     ]
    }
   ],
   "source": [
    "ds2 = tf.data.Dataset.from_tensor_slices(tf.random.uniform([4,10]))\n",
    "\n",
    "print(\"- - - - - - - - ds2 - - - - - - - -\")\n",
    "print(tf.random.uniform([4,10]))\n",
    "ds3 =(tf.random.uniform([4]),\n",
    "      tf.random.uniform([4, 4], maxval=100, dtype=tf.int32))\n",
    "\n",
    "print(\"- - - - - - - - ds3 - - - - - - - -\")\n",
    "print(ds3)\n",
    "ds3 = tf.data.Dataset.from_tensor_slices(ds3)"
   ]
  },
  {
   "cell_type": "code",
   "execution_count": 52,
   "id": "f21a777e",
   "metadata": {},
   "outputs": [
    {
     "name": "stdout",
     "output_type": "stream",
     "text": [
      "TensorSpec(shape=(), dtype=tf.int32, name=None)\n",
      "TensorSpec(shape=(10,), dtype=tf.float32, name=None)\n",
      "(TensorSpec(shape=(), dtype=tf.float32, name=None), TensorSpec(shape=(4,), dtype=tf.int32, name=None))\n"
     ]
    }
   ],
   "source": [
    "print(ds.element_spec)\n",
    "print(ds2.element_spec)\n",
    "print(ds3.element_spec)"
   ]
  },
  {
   "cell_type": "code",
   "execution_count": 55,
   "id": "d4e965e2",
   "metadata": {},
   "outputs": [
    {
     "name": "stdout",
     "output_type": "stream",
     "text": [
      "tf.Tensor(0, shape=(), dtype=int64)\n",
      "tf.Tensor(1, shape=(), dtype=int64)\n",
      "tf.Tensor(2, shape=(), dtype=int64)\n"
     ]
    }
   ],
   "source": [
    "for e in tf.data.Dataset.range(3):\n",
    "    print(e)"
   ]
  },
  {
   "cell_type": "code",
   "execution_count": 64,
   "id": "017f6481",
   "metadata": {},
   "outputs": [],
   "source": [
    "inc_ds = tf.data.Dataset.range(100)\n",
    "inc_ds2 = tf.data.Dataset.range(100, 200)\n",
    "comb_ds = tf.data.Dataset.zip((inc_ds, inc_ds2))\n",
    "batch_ds = comb_ds.batch(10)"
   ]
  },
  {
   "cell_type": "code",
   "execution_count": 65,
   "id": "6f472395",
   "metadata": {},
   "outputs": [
    {
     "data": {
      "text/plain": [
       "[(<tf.Tensor: shape=(), dtype=int64, numpy=0>,\n",
       "  <tf.Tensor: shape=(), dtype=int64, numpy=100>),\n",
       " (<tf.Tensor: shape=(), dtype=int64, numpy=1>,\n",
       "  <tf.Tensor: shape=(), dtype=int64, numpy=101>),\n",
       " (<tf.Tensor: shape=(), dtype=int64, numpy=2>,\n",
       "  <tf.Tensor: shape=(), dtype=int64, numpy=102>)]"
      ]
     },
     "execution_count": 65,
     "metadata": {},
     "output_type": "execute_result"
    }
   ],
   "source": [
    "list(iter(comb_ds))[:3]"
   ]
  },
  {
   "cell_type": "code",
   "execution_count": 82,
   "id": "bf92c2c6",
   "metadata": {},
   "outputs": [
    {
     "name": "stdout",
     "output_type": "stream",
     "text": [
      "(<tf.Tensor: shape=(10,), dtype=int64, numpy=array([0, 1, 2, 3, 4, 5, 6, 7, 8, 9], dtype=int64)>, <tf.Tensor: shape=(10,), dtype=int64, numpy=array([100, 101, 102, 103, 104, 105, 106, 107, 108, 109], dtype=int64)>)\n"
     ]
    }
   ],
   "source": [
    "for e in batch_ds: # this continues until all elements \n",
    "    print(e) \n",
    "    break"
   ]
  },
  {
   "cell_type": "code",
   "execution_count": 80,
   "id": "1fd81189",
   "metadata": {},
   "outputs": [
    {
     "name": "stdout",
     "output_type": "stream",
     "text": [
      "(<tf.Tensor: shape=(10,), dtype=int64, numpy=array([0, 1, 2, 3, 4, 5, 6, 7, 8, 9], dtype=int64)>, <tf.Tensor: shape=(10,), dtype=int64, numpy=array([100, 101, 102, 103, 104, 105, 106, 107, 108, 109], dtype=int64)>)\n",
      "(<tf.Tensor: shape=(10,), dtype=int64, numpy=array([10, 11, 12, 13, 14, 15, 16, 17, 18, 19], dtype=int64)>, <tf.Tensor: shape=(10,), dtype=int64, numpy=array([110, 111, 112, 113, 114, 115, 116, 117, 118, 119], dtype=int64)>)\n"
     ]
    }
   ],
   "source": [
    "for e in batch_ds.take(2): # only take(n), n element within ds.\n",
    "    print(e)"
   ]
  },
  {
   "cell_type": "code",
   "execution_count": 83,
   "id": "405b523c",
   "metadata": {},
   "outputs": [
    {
     "data": {
      "text/plain": [
       "'\\nSince each element may be different length, especially in sequential models. tf provide Dataset.padded_batch\\nfunction\\n'"
      ]
     },
     "execution_count": 83,
     "metadata": {},
     "output_type": "execute_result"
    }
   ],
   "source": [
    "\"\"\"\n",
    "Since each element may be different length, especially in sequential models. tf provide Dataset.padded_batch\n",
    "function\n",
    "\"\"\"\n",
    "# dataset = tf.data.Dataset.range(100)\n",
    "# dataset = dataset.map(lambda x: tf.fill([tf.cast(x, tf.int32)], x))\n",
    "# dataset = dataset.padded_batch(4, padded_shapes=(None,))\n",
    "\n",
    "# for batch in dataset.take(2):\n",
    "#     print(batch.numpy())\n",
    "#     print()"
   ]
  },
  {
   "cell_type": "code",
   "execution_count": null,
   "id": "a8795282",
   "metadata": {},
   "outputs": [],
   "source": []
  }
 ],
 "metadata": {
  "kernelspec": {
   "display_name": "Python 3 (ipykernel)",
   "language": "python",
   "name": "python3"
  },
  "language_info": {
   "codemirror_mode": {
    "name": "ipython",
    "version": 3
   },
   "file_extension": ".py",
   "mimetype": "text/x-python",
   "name": "python",
   "nbconvert_exporter": "python",
   "pygments_lexer": "ipython3",
   "version": "3.7.11"
  },
  "toc": {
   "base_numbering": 1,
   "nav_menu": {},
   "number_sections": true,
   "sideBar": true,
   "skip_h1_title": false,
   "title_cell": "Table of Contents",
   "title_sidebar": "Contents",
   "toc_cell": false,
   "toc_position": {},
   "toc_section_display": true,
   "toc_window_display": false
  }
 },
 "nbformat": 4,
 "nbformat_minor": 5
}
