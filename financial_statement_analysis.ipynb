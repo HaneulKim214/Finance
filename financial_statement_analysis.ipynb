{
 "cells": [
  {
   "cell_type": "markdown",
   "id": "b24dc01a",
   "metadata": {},
   "source": [
    "Analysis of financial statement"
   ]
  },
  {
   "cell_type": "markdown",
   "id": "45819fb2",
   "metadata": {},
   "source": [
    "References\n",
    "- YahooFinancials tutorial : https://www.analyticsvidhya.com/blog/2021/06/download-financial-dataset-using-yahoo-finance-in-python-a-complete-guide/\n",
    "- doc : https://pypi.org/project/yahoofinancials/"
   ]
  },
  {
   "cell_type": "code",
   "execution_count": null,
   "id": "4f99ffe3",
   "metadata": {},
   "outputs": [],
   "source": [
    "import numpy as np\n",
    "import pandas as pd\n",
    "import plotly.graph_objects as go\n",
    "import sys\n",
    "import time\n",
    "import yahoo_fin.stock_info as si\n",
    "\n",
    "from datetime import timedelta, datetime\n",
    "from sklearn.preprocessing import MinMaxScaler\n",
    "from yahoofinancials import YahooFinancials as yf"
   ]
  },
  {
   "cell_type": "code",
   "execution_count": null,
   "id": "e11154b2",
   "metadata": {},
   "outputs": [],
   "source": [
    "print(f\"python version : {sys.version}\")\n",
    "print(f\"pandas version : {pd.__version__}\")\n",
    "print(f\"numpy version : {np.__version__}\")"
   ]
  },
  {
   "cell_type": "code",
   "execution_count": null,
   "id": "9cc880bc",
   "metadata": {},
   "outputs": [],
   "source": [
    "air_canada = yf(\"AC.TO\")\n",
    "data = air_canada.get_historical_price_data(start_date='2021-10-01', end_date='2023-04-13',\n",
    "                                     time_interval='daily')"
   ]
  },
  {
   "cell_type": "code",
   "execution_count": null,
   "id": "344287f0",
   "metadata": {},
   "outputs": [],
   "source": [
    "airlines = {\"air_canada\":\"AC.TO\",\n",
    "            \"delta\":\"DAL\",\n",
    "            'korean_air':\"003490.KS\",\"Asiana\":\"020560.KS\"}\n",
    "airline_tickers = airlines.values()"
   ]
  },
  {
   "cell_type": "code",
   "execution_count": null,
   "id": "3ec545bf",
   "metadata": {},
   "outputs": [],
   "source": [
    "end_date = datetime.today().strftime('%Y-%m-%d')\n",
    "st_date = (datetime.today() - timedelta(days=365)).strftime('%Y-%m-%d')\n",
    "hist_data = yf(airline_tickers).get_historical_price_data(start_date=st_date, end_date=end_date,\n",
    "                                              time_interval='daily')"
   ]
  },
  {
   "cell_type": "code",
   "execution_count": null,
   "id": "1a136655",
   "metadata": {},
   "outputs": [],
   "source": [
    "stock_price_df_dict = {}\n",
    "for airline_nm, ticker in airlines.items():\n",
    "    print(airline_nm, ticker)\n",
    "    df = pd.DataFrame(hist_data[ticker]['prices'])\n",
    "    df = (df.drop(columns=['date'])\n",
    "        .rename(columns={\"formatted_date\":\"date\"})\n",
    "        .set_index('date')\n",
    "        .sort_index(ascending=True))\n",
    "    df.index = pd.to_datetime(df.index)\n",
    "    df['currency'] = hist_data[ticker]['currency']\n",
    "    stock_price_df_dict[ticker] = df"
   ]
  },
  {
   "cell_type": "code",
   "execution_count": null,
   "id": "a950a993",
   "metadata": {},
   "outputs": [],
   "source": [
    "\"\"\"\n",
    "Data transformation\n",
    "\n",
    "- Since all stocks are from different stock exchanges, and have different range, apply scaling.\n",
    "\n",
    "\n",
    "What to see:\n",
    "1. See if stocks from similar stock exchange tend to move in similar direction\n",
    "2. Since all stocks are stocks of airline company, do they move simlarily despite diff stock exchange? \n",
    "\"\"\"\n",
    "def apply_minmax(df):\n",
    "    mm_scaler = MinMaxScaler()\n",
    "    num_cols = df.select_dtypes(include=['float', 'int']).columns\n",
    "    df[num_cols] = mm_scaler.fit_transform(df[num_cols])\n",
    "    return df\n",
    "\n",
    "stock_price_df_dict_trsfmd = {ticker:apply_minmax(df.copy()) for ticker, df in stock_price_df_dict.items()}"
   ]
  },
  {
   "cell_type": "code",
   "execution_count": null,
   "id": "25d0b5c0",
   "metadata": {},
   "outputs": [],
   "source": [
    "fig = go.Figure()\n",
    "df = stock_price_df_dict_trsfmd['AC.TO']\n",
    "fig.add_trace(\n",
    "    go.Scatter(\n",
    "        x= df.index,\n",
    "        y= df['high'],\n",
    "        name='AC.TO'))\n",
    "    \n",
    "fig.update_layout(\n",
    "    title='Airline stocks comparison [high]')\n",
    "fig.show()"
   ]
  },
  {
   "cell_type": "code",
   "execution_count": null,
   "id": "db181840",
   "metadata": {},
   "outputs": [],
   "source": [
    "fig = go.Figure()\n",
    "df = stock_price_df_dict['AC.TO']\n",
    "fig.add_trace(\n",
    "    go.Scatter(\n",
    "        x= df.index,\n",
    "        y= df['high'],\n",
    "        name='AC.TO'))\n",
    "    \n",
    "fig.update_layout(\n",
    "    title='Airline stocks comparison [high]')\n",
    "fig.show()"
   ]
  },
  {
   "cell_type": "code",
   "execution_count": null,
   "id": "d42fae16",
   "metadata": {},
   "outputs": [],
   "source": [
    "fig = go.Figure()\n",
    "for ticker, df in stock_price_df_dict_trsfmd.items():\n",
    "    fig.add_trace(\n",
    "        go.Scatter(\n",
    "            x= df.index,\n",
    "            y= df['high'],\n",
    "            name=ticker))\n",
    "    \n",
    "fig.update_layout(\n",
    "    title='Airline stocks comparison [high]')\n",
    "fig.show()"
   ]
  },
  {
   "cell_type": "markdown",
   "id": "b1d388d2",
   "metadata": {},
   "source": [
    "## EDA"
   ]
  },
  {
   "cell_type": "markdown",
   "id": "211eda1d",
   "metadata": {},
   "source": [
    "### Stock movement comparison"
   ]
  },
  {
   "cell_type": "code",
   "execution_count": null,
   "id": "834cb58f",
   "metadata": {},
   "outputs": [],
   "source": [
    "\"\"\"\n",
    "See if stocks of similar domain tend to move together.\n",
    "  If not, see what the differences are, for example even if the company is motor company it might have lot \n",
    "  of tangible assets that might be driving the stock price up.\n",
    "\"\"\""
   ]
  },
  {
   "cell_type": "code",
   "execution_count": null,
   "id": "5c2f4b26",
   "metadata": {},
   "outputs": [],
   "source": []
  },
  {
   "cell_type": "code",
   "execution_count": null,
   "id": "1628c52f",
   "metadata": {},
   "outputs": [],
   "source": []
  },
  {
   "cell_type": "code",
   "execution_count": null,
   "id": "f6850c62",
   "metadata": {},
   "outputs": [],
   "source": []
  },
  {
   "cell_type": "code",
   "execution_count": null,
   "id": "e0ba6672",
   "metadata": {},
   "outputs": [],
   "source": [
    "fig = go.Figure(data=[\n",
    "    go.Candlestick(x=df.index,\n",
    "    open=df['open'],\n",
    "    high=df['high'],\n",
    "    low=df['low'],\n",
    "    close=df['close'])])\n",
    "\n",
    "fig.update_layout(\n",
    "    title='AC.TO',\n",
    "    yaxis_title='USD'\n",
    ")\n",
    "fig.show()"
   ]
  },
  {
   "cell_type": "code",
   "execution_count": null,
   "id": "b69d051b",
   "metadata": {},
   "outputs": [],
   "source": [
    "air_canada.get_financial_data()"
   ]
  },
  {
   "cell_type": "code",
   "execution_count": null,
   "id": "e7f6fb04",
   "metadata": {},
   "outputs": [],
   "source": [
    "balance_sheets = air_canada.get_financial_stmts(frequency='quarterly', statement_type='balance')\n",
    "income_stmts = air_canada.get_financial_stmts(frequency='quarterly', statement_type='income')"
   ]
  },
  {
   "cell_type": "code",
   "execution_count": null,
   "id": "eca34440",
   "metadata": {},
   "outputs": [],
   "source": [
    "dfs = []\n",
    "for inc_stmt in income_stmts['incomeStatementHistoryQuarterly']['AC.TO']:\n",
    "    dfs.append(pd.DataFrame(inc_stmt).T)\n",
    "income_stmt_df = pd.concat(dfs)\n",
    "\n",
    "dfs = []\n",
    "for q_stats in balance_sheets['balanceSheetHistoryQuarterly']['AC.TO']:\n",
    "    dfs.append(pd.DataFrame(q_stats).T)\n",
    "bal_sheet_df = pd.concat(dfs)"
   ]
  },
  {
   "cell_type": "code",
   "execution_count": null,
   "id": "f3558844",
   "metadata": {},
   "outputs": [],
   "source": [
    "financial_stmt_df = pd.concat([income_stmt_df, bal_sheet_df], axis=1).sort_index(ascending=True)\n",
    "financial_stmt_df.index = pd.to_datetime(financial_stmt_df.index)"
   ]
  },
  {
   "cell_type": "code",
   "execution_count": null,
   "id": "d84112b3",
   "metadata": {},
   "outputs": [],
   "source": [
    "# ? find out way to left join but then if right table do not match, join with previous day.\n",
    "\n",
    "# historical dataset does not have date that match fin_stmt therefore shifted +1 one day to join.\n",
    "financial_stmt_df = (financial_stmt_df\n",
    "                      .merge(df\n",
    "#                              .shift(periods=1, freq='D')\n",
    "                             ,how='left', left_index=True, right_index=True)\n",
    "                      .sort_index(ascending=True))"
   ]
  },
  {
   "cell_type": "code",
   "execution_count": null,
   "id": "5e408860",
   "metadata": {},
   "outputs": [],
   "source": [
    "financial_stmt_df['p/e ratio'] = (financial_stmt_df['high'] / \n",
    "                                  (financial_stmt_df['netIncome'] / financial_stmt_df['shareIssued'])\n",
    "                                 )"
   ]
  },
  {
   "cell_type": "code",
   "execution_count": null,
   "id": "18b8bbc4",
   "metadata": {},
   "outputs": [],
   "source": [
    "financial_stmt_df['netIncome'] / financial_stmt_df['shareIssued']"
   ]
  },
  {
   "cell_type": "code",
   "execution_count": null,
   "id": "419b4c00",
   "metadata": {},
   "outputs": [],
   "source": [
    "financial_stmt_df['p/e ratio']"
   ]
  },
  {
   "cell_type": "code",
   "execution_count": null,
   "id": "68d36de1",
   "metadata": {},
   "outputs": [],
   "source": [
    "total_revenue=16_556_000\n",
    "cost_of_revenue = 13_757_000 #same as COGS : costs associated with producing companys products\n",
    "# in air canda this includes : FUEL, maintenance&repairs, other cost of revenue(???), etc...\n",
    "opearting_expenses = 2_982_000 # indirect costs such as wages, rents, insurance, marketing, etc...\n",
    "gross_profit =  2_799_000 # revenue - COGS"
   ]
  },
  {
   "cell_type": "code",
   "execution_count": null,
   "id": "1db21cde",
   "metadata": {},
   "outputs": [],
   "source": [
    "book_value = assets - liabilities\n",
    "PBR = marker_price_per_share / book_value_per_share\n",
    "\n",
    "earnings_per_share = (netincome - preferred_dividends) / Average oustanding common shares\n",
    "PER = marker_price_per_share / earnings_per_share"
   ]
  },
  {
   "cell_type": "markdown",
   "id": "e66aab82",
   "metadata": {},
   "source": [
    "## Air canada analysis"
   ]
  },
  {
   "cell_type": "markdown",
   "id": "0092cee3",
   "metadata": {},
   "source": [
    "봐야 할것:\n",
    "\n",
    "0. PER, PBR, 이익곡선 vs 주가 곡선 : 같은 분야의 기업들과 비교\n",
    "1. 재무 상태, 현금 보유량\n",
    "2. 기관투자자, 내부자 비중\n",
    "3. 재고\n",
    "4. 수요,공급 관계.\n",
    "5. 신규로 진입하는 기업 a.k.a. 경쟁자 분석."
   ]
  },
  {
   "cell_type": "code",
   "execution_count": null,
   "id": "eb801a57",
   "metadata": {},
   "outputs": [],
   "source": [
    "airlines = {\"air_canada\":\"AC.TO\",\n",
    "            \"delta\":\"\",\"westjet\":\"\",\"lufthansa\":\"\",\n",
    "            \"qatar\":\"\",\"singapore_air\":\"\",\n",
    "            'korean_air':\"\",\"Asiana\":\"\",\n",
    "            \"emirates\":\"\",}"
   ]
  },
  {
   "cell_type": "code",
   "execution_count": null,
   "id": "cbbb8ca6",
   "metadata": {},
   "outputs": [],
   "source": [
    "balance_sheet = balance_sheet.T.sort_values(\"endDate\")"
   ]
  },
  {
   "cell_type": "code",
   "execution_count": null,
   "id": "91d7ae9c",
   "metadata": {},
   "outputs": [],
   "source": [
    "balance_sheet.T"
   ]
  },
  {
   "cell_type": "code",
   "execution_count": null,
   "id": "e9fc2df9",
   "metadata": {},
   "outputs": [],
   "source": []
  },
  {
   "cell_type": "markdown",
   "id": "e24f53fc",
   "metadata": {},
   "source": [
    "# Timeseries forecasting"
   ]
  }
 ],
 "metadata": {
  "kernelspec": {
   "display_name": "Python 3 (ipykernel)",
   "language": "python",
   "name": "python3"
  },
  "language_info": {
   "codemirror_mode": {
    "name": "ipython",
    "version": 3
   },
   "file_extension": ".py",
   "mimetype": "text/x-python",
   "name": "python",
   "nbconvert_exporter": "python",
   "pygments_lexer": "ipython3",
   "version": "3.7.11"
  },
  "toc": {
   "base_numbering": 1,
   "nav_menu": {},
   "number_sections": true,
   "sideBar": true,
   "skip_h1_title": false,
   "title_cell": "Table of Contents",
   "title_sidebar": "Contents",
   "toc_cell": false,
   "toc_position": {},
   "toc_section_display": true,
   "toc_window_display": false
  }
 },
 "nbformat": 4,
 "nbformat_minor": 5
}
