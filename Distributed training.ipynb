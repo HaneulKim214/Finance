{
 "cells": [
  {
   "cell_type": "code",
   "execution_count": 2,
   "id": "13029221",
   "metadata": {},
   "outputs": [],
   "source": [
    "import sys\n",
    "import numpy as np\n",
    "import pandas as pd\n",
    "\n",
    "import tensorflow as tf"
   ]
  },
  {
   "cell_type": "code",
   "execution_count": 3,
   "id": "b7957dd2",
   "metadata": {},
   "outputs": [
    {
     "name": "stdout",
     "output_type": "stream",
     "text": [
      "3.7.11 (default, Jul 27 2021, 09:42:29) [MSC v.1916 64 bit (AMD64)]\n",
      "tf version : 2.7.0\n"
     ]
    }
   ],
   "source": [
    "print(sys.version)\n",
    "print(f'tf version : {tf.__version__}')"
   ]
  },
  {
   "cell_type": "markdown",
   "id": "63dc2711",
   "metadata": {},
   "source": [
    "# tf.data.Dataset from TFRecords"
   ]
  },
  {
   "cell_type": "markdown",
   "id": "9e63eaf8",
   "metadata": {},
   "source": [
    "references\n",
    "- https://medium.com/mostly-ai/tensorflow-records-what-they-are-and-how-to-use-them-c46bc4bbb564\n",
    "- "
   ]
  },
  {
   "cell_type": "markdown",
   "id": "6bb2edda",
   "metadata": {},
   "source": [
    "Benefits of Binary format:\n",
    "- less space on disk\n",
    "- faster read and write.\n",
    "- Easy integration with multiple types of datasets such as images, text, audio, etc...\n",
    "- N-gram support => store sequential data.\n",
    "\n",
    "\n",
    "but how to TFRecord differ from other Binary formatS?"
   ]
  },
  {
   "cell_type": "code",
   "execution_count": 8,
   "id": "b0dced79",
   "metadata": {},
   "outputs": [],
   "source": [
    "movie_name = tf.train.Feature(\n",
    "    bytes_list = tf.train.BytesList(value=[b'The Shawshank Redemption', b'Fight Club'])\n",
    ")\n",
    "movie_rating = tf.train.Feature(\n",
    "    float_list = tf.train.FloatList(value=[9.0, 9.7])\n",
    ")"
   ]
  },
  {
   "cell_type": "code",
   "execution_count": 12,
   "id": "85df7e65",
   "metadata": {},
   "outputs": [
    {
     "name": "stdout",
     "output_type": "stream",
     "text": [
      "bytes_list {\n",
      "  value: \"The Shawshank Redemption\"\n",
      "  value: \"Fight Club\"\n",
      "}\n",
      "\n",
      "<class 'tensorflow.core.example.feature_pb2.Feature'>\n"
     ]
    }
   ],
   "source": [
    "print(movie_name)\n",
    "print(type(movie_name))"
   ]
  },
  {
   "cell_type": "code",
   "execution_count": 13,
   "id": "44c32a6a",
   "metadata": {},
   "outputs": [],
   "source": [
    "movie_dict = {\"movie_names\":movie_name, \"rating\":movie_rating}"
   ]
  },
  {
   "cell_type": "code",
   "execution_count": 18,
   "id": "0f5f38d0",
   "metadata": {},
   "outputs": [
    {
     "name": "stdout",
     "output_type": "stream",
     "text": [
      "<class 'tensorflow.core.example.feature_pb2.Features'>\n",
      "feature {\n",
      "  key: \"movie_names\"\n",
      "  value {\n",
      "    bytes_list {\n",
      "      value: \"The Shawshank Redemption\"\n",
      "      value: \"Fight Club\"\n",
      "    }\n",
      "  }\n",
      "}\n",
      "feature {\n",
      "  key: \"rating\"\n",
      "  value {\n",
      "    float_list {\n",
      "      value: 9.0\n",
      "      value: 9.699999809265137\n",
      "    }\n",
      "  }\n",
      "}\n",
      "\n"
     ]
    }
   ],
   "source": [
    "movies = tf.train.Features(feature=movie_dict)\n",
    "print(type(movies))\n",
    "print(movies)"
   ]
  },
  {
   "cell_type": "code",
   "execution_count": 19,
   "id": "104fc3d9",
   "metadata": {},
   "outputs": [
    {
     "name": "stdout",
     "output_type": "stream",
     "text": [
      "<class 'tensorflow.core.example.example_pb2.Example'>\n"
     ]
    }
   ],
   "source": [
    "example = tf.train.Example(features=tf.train.Features(feature=movie_dict))\n",
    "print(type(example))"
   ]
  },
  {
   "cell_type": "code",
   "execution_count": 17,
   "id": "2901d80f",
   "metadata": {},
   "outputs": [
    {
     "data": {
      "text/plain": [
       "features {\n",
       "  feature {\n",
       "    key: \"movie_names\"\n",
       "    value {\n",
       "      bytes_list {\n",
       "        value: \"The Shawshank Redemption\"\n",
       "        value: \"Fight Club\"\n",
       "      }\n",
       "    }\n",
       "  }\n",
       "  feature {\n",
       "    key: \"rating\"\n",
       "    value {\n",
       "      float_list {\n",
       "        value: 9.0\n",
       "        value: 9.699999809265137\n",
       "      }\n",
       "    }\n",
       "  }\n",
       "}"
      ]
     },
     "execution_count": 17,
     "metadata": {},
     "output_type": "execute_result"
    }
   ],
   "source": [
    "example"
   ]
  },
  {
   "cell_type": "code",
   "execution_count": 20,
   "id": "fceffc2f",
   "metadata": {},
   "outputs": [],
   "source": [
    "write_path = 'tfrecords/movies.tfrecord'\n",
    "writer = tf.io.TFRecordWriter(write_path)\n",
    "writer.write(example.SerializeToString())\n",
    "\n",
    "# We've just written one sample of data in tfrecord representing features and rating(y)"
   ]
  },
  {
   "cell_type": "code",
   "execution_count": 21,
   "id": "39665ca8",
   "metadata": {},
   "outputs": [
    {
     "name": "stdout",
     "output_type": "stream",
     "text": [
      "{'Age': 29, 'Movie': ['The Shawshank Redemption', 'Fight Club'], 'Movie Ratings': [9.0, 9.7], 'Suggestion': 'Inception', 'Suggestion Purchased': 1.0, 'Purchase Price': 9.99}\n"
     ]
    }
   ],
   "source": [
    "data = {\n",
    "    'Age': 29,\n",
    "    'Movie': ['The Shawshank Redemption', 'Fight Club'],\n",
    "    'Movie Ratings': [9.0, 9.7],\n",
    "    'Suggestion': 'Inception',\n",
    "    'Suggestion Purchased': 1.0,\n",
    "    'Purchase Price': 9.99\n",
    "}\n",
    "\n",
    "print(data)"
   ]
  },
  {
   "cell_type": "code",
   "execution_count": 31,
   "id": "f7f5362e",
   "metadata": {},
   "outputs": [],
   "source": [
    "age_feature = tf.train.Feature(int64_list = tf.train.Int64List(value=[data['Age']]))\n",
    "\n",
    "#??? why two ?\n",
    "movie_feature = tf.train.Feature(\n",
    "    bytes_list = tf.train.BytesList(value=[m.encode('utf-8') for m in data['Movie']]))\n",
    "rating_feature = tf.train.Feature(float_list=tf.train.FloatList(value=data['Movie Ratings']))\n",
    "suggest_feature = tf.train.Feature(\n",
    "    bytes_list=tf.train.BytesList(value=[data['Suggestion'].encode('utf-8')]))\n",
    "price_feature = tf.train.Feature(float_list=tf.train.FloatList(value=[data['Purchase Price']]))"
   ]
  },
  {
   "cell_type": "code",
   "execution_count": 33,
   "id": "5d8fdce4",
   "metadata": {},
   "outputs": [],
   "source": [
    "features_dict = {'age': age_feature,\n",
    "                 'movie':movie_feature,\n",
    "                 'rating':rating_feature,\n",
    "                 'suggestion':suggest_feature,\n",
    "                 'price':price_feature}"
   ]
  },
  {
   "cell_type": "code",
   "execution_count": 34,
   "id": "b46e1786",
   "metadata": {},
   "outputs": [
    {
     "data": {
      "text/plain": [
       "{'age': int64_list {\n",
       "   value: 29\n",
       " },\n",
       " 'movie': bytes_list {\n",
       "   value: \"The Shawshank Redemption\"\n",
       "   value: \"Fight Club\"\n",
       " },\n",
       " 'rating': float_list {\n",
       "   value: 9.0\n",
       "   value: 9.699999809265137\n",
       " },\n",
       " 'suggestion': bytes_list {\n",
       "   value: \"Inception\"\n",
       " },\n",
       " 'price': float_list {\n",
       "   value: 9.989999771118164\n",
       " }}"
      ]
     },
     "execution_count": 34,
     "metadata": {},
     "output_type": "execute_result"
    }
   ],
   "source": [
    "features_dict"
   ]
  },
  {
   "cell_type": "code",
   "execution_count": 38,
   "id": "40493358",
   "metadata": {},
   "outputs": [],
   "source": [
    "example = tf.train.Example(\n",
    "    features=tf.train.Features(feature=features_dict)\n",
    ")\n",
    "\n",
    "with tf.io.TFRecordWriter('tfrecords/customer_1.tfrecord') as writer:\n",
    "    writer.write(example.SerializePartialToString())"
   ]
  },
  {
   "cell_type": "code",
   "execution_count": 36,
   "id": "f95623b9",
   "metadata": {},
   "outputs": [
    {
     "name": "stdout",
     "output_type": "stream",
     "text": [
      "features {\n",
      "  feature {\n",
      "    key: \"age\"\n",
      "    value {\n",
      "      int64_list {\n",
      "        value: 29\n",
      "      }\n",
      "    }\n",
      "  }\n",
      "  feature {\n",
      "    key: \"movie\"\n",
      "    value {\n",
      "      bytes_list {\n",
      "        value: \"The Shawshank Redemption\"\n",
      "        value: \"Fight Club\"\n",
      "      }\n",
      "    }\n",
      "  }\n",
      "  feature {\n",
      "    key: \"price\"\n",
      "    value {\n",
      "      float_list {\n",
      "        value: 9.989999771118164\n",
      "      }\n",
      "    }\n",
      "  }\n",
      "  feature {\n",
      "    key: \"rating\"\n",
      "    value {\n",
      "      float_list {\n",
      "        value: 9.0\n",
      "        value: 9.699999809265137\n",
      "      }\n",
      "    }\n",
      "  }\n",
      "  feature {\n",
      "    key: \"suggestion\"\n",
      "    value {\n",
      "      bytes_list {\n",
      "        value: \"Inception\"\n",
      "      }\n",
      "    }\n",
      "  }\n",
      "}\n",
      "\n"
     ]
    }
   ],
   "source": [
    "print(example)"
   ]
  },
  {
   "cell_type": "code",
   "execution_count": 54,
   "id": "0ef0b66f",
   "metadata": {},
   "outputs": [],
   "source": [
    "feature_desc_dict = {\n",
    "    'age': tf.io.FixedLenFeature([], dtype=tf.int64),\n",
    "    'movie': tf.io.VarLenFeature(dtype=tf.string),\n",
    "    'rating': tf.io.VarLenFeature(dtype=tf.float32),\n",
    "    'suggestion': tf.io.FixedLenFeature([], dtype=tf.string),\n",
    "    'price': tf.io.FixedLenFeature([], dtype=tf.float32)}"
   ]
  },
  {
   "cell_type": "code",
   "execution_count": 45,
   "id": "90dfc48d",
   "metadata": {},
   "outputs": [],
   "source": [
    "serialized_dataset = tf.data.TFRecordDataset('tfrecords/customer_1.tfrecord')"
   ]
  },
  {
   "cell_type": "code",
   "execution_count": 55,
   "id": "1d8c3d1d",
   "metadata": {},
   "outputs": [
    {
     "data": {
      "text/plain": [
       "<TFRecordDatasetV2 shapes: (), types: tf.string>"
      ]
     },
     "execution_count": 55,
     "metadata": {},
     "output_type": "execute_result"
    }
   ],
   "source": [
    "serialized_dataset"
   ]
  },
  {
   "cell_type": "code",
   "execution_count": 56,
   "id": "52bb6793",
   "metadata": {},
   "outputs": [
    {
     "data": {
      "text/plain": [
       "TensorSpec(shape=(), dtype=tf.string, name=None)"
      ]
     },
     "execution_count": 56,
     "metadata": {},
     "output_type": "execute_result"
    }
   ],
   "source": [
    "serialized_dataset.element_spec"
   ]
  },
  {
   "cell_type": "code",
   "execution_count": 57,
   "id": "ef05acb7",
   "metadata": {},
   "outputs": [
    {
     "name": "stdout",
     "output_type": "stream",
     "text": [
      "tf.Tensor(b'\\n\\x89\\x01\\n\\x11\\n\\x05price\\x12\\x08\\x12\\x06\\n\\x04\\n\\xd7\\x1fA\\n\\x16\\n\\x06rating\\x12\\x0c\\x12\\n\\n\\x08\\x00\\x00\\x10A33\\x1bA\\n\\x1b\\n\\nsuggestion\\x12\\r\\n\\x0b\\n\\tInception\\n\\x0c\\n\\x03age\\x12\\x05\\x1a\\x03\\n\\x01\\x1d\\n1\\n\\x05movie\\x12(\\n&\\n\\x18The Shawshank Redemption\\n\\nFight Club', shape=(), dtype=string)\n"
     ]
    }
   ],
   "source": [
    "for e in serialized_dataset:\n",
    "    print(e)"
   ]
  },
  {
   "cell_type": "code",
   "execution_count": 60,
   "id": "3b83e3c1",
   "metadata": {},
   "outputs": [],
   "source": [
    "single_data = tf.io.parse_single_example(serialized=e, features=feature_desc_dict)"
   ]
  },
  {
   "cell_type": "code",
   "execution_count": 61,
   "id": "c3533caf",
   "metadata": {},
   "outputs": [
    {
     "data": {
      "text/plain": [
       "{'movie': <tensorflow.python.framework.sparse_tensor.SparseTensor at 0x1ae69e82148>,\n",
       " 'rating': <tensorflow.python.framework.sparse_tensor.SparseTensor at 0x1ae69e82208>,\n",
       " 'age': <tf.Tensor: shape=(), dtype=int64, numpy=29>,\n",
       " 'price': <tf.Tensor: shape=(), dtype=float32, numpy=9.99>,\n",
       " 'suggestion': <tf.Tensor: shape=(), dtype=string, numpy=b'Inception'>}"
      ]
     },
     "execution_count": 61,
     "metadata": {},
     "output_type": "execute_result"
    }
   ],
   "source": [
    "single_data"
   ]
  },
  {
   "cell_type": "code",
   "execution_count": 66,
   "id": "2871e1d5",
   "metadata": {},
   "outputs": [
    {
     "name": "stdout",
     "output_type": "stream",
     "text": [
      "movie : SparseTensor(indices=tf.Tensor(\n",
      "[[0]\n",
      " [1]], shape=(2, 1), dtype=int64), values=tf.Tensor([b'The Shawshank Redemption' b'Fight Club'], shape=(2,), dtype=string), dense_shape=tf.Tensor([2], shape=(1,), dtype=int64))\n",
      "\n",
      "rating : SparseTensor(indices=tf.Tensor(\n",
      "[[0]\n",
      " [1]], shape=(2, 1), dtype=int64), values=tf.Tensor([9.  9.7], shape=(2,), dtype=float32), dense_shape=tf.Tensor([2], shape=(1,), dtype=int64))\n",
      "\n",
      "age : 29\n",
      "\n",
      "price : 9.989999771118164\n",
      "\n",
      "suggestion : b'Inception'\n",
      "\n"
     ]
    }
   ],
   "source": [
    "for name, tensor in single_data.items():\n",
    "    print(f'{name} : {tensor}')\n",
    "    print()"
   ]
  },
  {
   "cell_type": "markdown",
   "id": "e182c8be",
   "metadata": {},
   "source": [
    "# petastorm"
   ]
  },
  {
   "cell_type": "code",
   "execution_count": 62,
   "id": "866c3d4d",
   "metadata": {},
   "outputs": [],
   "source": [
    "arr = np.random.randint(10, size=10)"
   ]
  },
  {
   "cell_type": "code",
   "execution_count": 63,
   "id": "c7a1380f",
   "metadata": {},
   "outputs": [],
   "source": [
    "ds = tf.data.Dataset.from_tensor_slices(arr)"
   ]
  },
  {
   "cell_type": "code",
   "execution_count": 68,
   "id": "078621cb",
   "metadata": {},
   "outputs": [
    {
     "name": "stdout",
     "output_type": "stream",
     "text": [
      "tf.Tensor(1, shape=(), dtype=int32)\n",
      "tf.Tensor(0, shape=(), dtype=int32)\n",
      "tf.Tensor(1, shape=(), dtype=int32)\n",
      "tf.Tensor(7, shape=(), dtype=int32)\n",
      "tf.Tensor(3, shape=(), dtype=int32)\n",
      "tf.Tensor(0, shape=(), dtype=int32)\n",
      "tf.Tensor(9, shape=(), dtype=int32)\n",
      "tf.Tensor(7, shape=(), dtype=int32)\n",
      "tf.Tensor(9, shape=(), dtype=int32)\n",
      "tf.Tensor(9, shape=(), dtype=int32)\n",
      "0\n"
     ]
    }
   ],
   "source": [
    "n = 0\n",
    "for e in ds:\n",
    "    n += e.numpy()\n",
    "    print(e)\n",
    "print(n)"
   ]
  },
  {
   "cell_type": "code",
   "execution_count": 14,
   "id": "a73e60b0",
   "metadata": {},
   "outputs": [
    {
     "data": {
      "text/plain": [
       "1"
      ]
     },
     "execution_count": 14,
     "metadata": {},
     "output_type": "execute_result"
    }
   ],
   "source": [
    "e.numpy()"
   ]
  },
  {
   "cell_type": "code",
   "execution_count": 26,
   "id": "a015b949",
   "metadata": {},
   "outputs": [
    {
     "data": {
      "text/plain": [
       "tensorflow.python.data.ops.iterator_ops.OwnedIterator"
      ]
     },
     "execution_count": 26,
     "metadata": {},
     "output_type": "execute_result"
    }
   ],
   "source": [
    "type(iter(ds))"
   ]
  },
  {
   "cell_type": "code",
   "execution_count": 27,
   "id": "45533a5b",
   "metadata": {},
   "outputs": [
    {
     "data": {
      "text/plain": [
       "tensorflow.python.data.ops.dataset_ops.TensorSliceDataset"
      ]
     },
     "execution_count": 27,
     "metadata": {},
     "output_type": "execute_result"
    }
   ],
   "source": [
    "type(ds)"
   ]
  },
  {
   "cell_type": "code",
   "execution_count": 51,
   "id": "2a354365",
   "metadata": {},
   "outputs": [
    {
     "name": "stdout",
     "output_type": "stream",
     "text": [
      "- - - - - - - - ds2 - - - - - - - -\n",
      "tf.Tensor(\n",
      "[[0.47324824 0.5358292  0.68424356 0.6670543  0.39903927 0.74895215\n",
      "  0.02241492 0.7940999  0.96831155 0.3296466 ]\n",
      " [0.90393615 0.21639478 0.00346696 0.00973201 0.59110105 0.6534457\n",
      "  0.34532034 0.44684315 0.7754146  0.75971067]\n",
      " [0.05918646 0.92768335 0.08951044 0.5959326  0.1223489  0.64387894\n",
      "  0.623575   0.88988674 0.25609267 0.93290424]\n",
      " [0.13810718 0.28943217 0.4182005  0.46913886 0.93926716 0.7865521\n",
      "  0.10096097 0.37386072 0.5458963  0.89973044]], shape=(4, 10), dtype=float32)\n",
      "- - - - - - - - ds3 - - - - - - - -\n",
      "(<tf.Tensor: shape=(4,), dtype=float32, numpy=array([0.19898903, 0.833717  , 0.17857337, 0.19229329], dtype=float32)>, <tf.Tensor: shape=(4, 4), dtype=int32, numpy=\n",
      "array([[72, 98, 32, 86],\n",
      "       [80,  9, 44,  6],\n",
      "       [70, 44, 42, 35],\n",
      "       [21, 42, 71, 76]])>)\n"
     ]
    }
   ],
   "source": [
    "ds2 = tf.data.Dataset.from_tensor_slices(tf.random.uniform([4,10]))\n",
    "\n",
    "print(\"- - - - - - - - ds2 - - - - - - - -\")\n",
    "print(tf.random.uniform([4,10]))\n",
    "ds3 =(tf.random.uniform([4]),\n",
    "      tf.random.uniform([4, 4], maxval=100, dtype=tf.int32))\n",
    "\n",
    "print(\"- - - - - - - - ds3 - - - - - - - -\")\n",
    "print(ds3)\n",
    "ds3 = tf.data.Dataset.from_tensor_slices(ds3)"
   ]
  },
  {
   "cell_type": "code",
   "execution_count": 52,
   "id": "f21a777e",
   "metadata": {},
   "outputs": [
    {
     "name": "stdout",
     "output_type": "stream",
     "text": [
      "TensorSpec(shape=(), dtype=tf.int32, name=None)\n",
      "TensorSpec(shape=(10,), dtype=tf.float32, name=None)\n",
      "(TensorSpec(shape=(), dtype=tf.float32, name=None), TensorSpec(shape=(4,), dtype=tf.int32, name=None))\n"
     ]
    }
   ],
   "source": [
    "print(ds.element_spec)\n",
    "print(ds2.element_spec)\n",
    "print(ds3.element_spec)"
   ]
  },
  {
   "cell_type": "code",
   "execution_count": 55,
   "id": "d4e965e2",
   "metadata": {},
   "outputs": [
    {
     "name": "stdout",
     "output_type": "stream",
     "text": [
      "tf.Tensor(0, shape=(), dtype=int64)\n",
      "tf.Tensor(1, shape=(), dtype=int64)\n",
      "tf.Tensor(2, shape=(), dtype=int64)\n"
     ]
    }
   ],
   "source": [
    "for e in tf.data.Dataset.range(3):\n",
    "    print(e)"
   ]
  },
  {
   "cell_type": "code",
   "execution_count": 64,
   "id": "017f6481",
   "metadata": {},
   "outputs": [],
   "source": [
    "inc_ds = tf.data.Dataset.range(100)\n",
    "inc_ds2 = tf.data.Dataset.range(100, 200)\n",
    "comb_ds = tf.data.Dataset.zip((inc_ds, inc_ds2))\n",
    "batch_ds = comb_ds.batch(10)"
   ]
  },
  {
   "cell_type": "code",
   "execution_count": 65,
   "id": "6f472395",
   "metadata": {},
   "outputs": [
    {
     "data": {
      "text/plain": [
       "[(<tf.Tensor: shape=(), dtype=int64, numpy=0>,\n",
       "  <tf.Tensor: shape=(), dtype=int64, numpy=100>),\n",
       " (<tf.Tensor: shape=(), dtype=int64, numpy=1>,\n",
       "  <tf.Tensor: shape=(), dtype=int64, numpy=101>),\n",
       " (<tf.Tensor: shape=(), dtype=int64, numpy=2>,\n",
       "  <tf.Tensor: shape=(), dtype=int64, numpy=102>)]"
      ]
     },
     "execution_count": 65,
     "metadata": {},
     "output_type": "execute_result"
    }
   ],
   "source": [
    "list(iter(comb_ds))[:3]"
   ]
  },
  {
   "cell_type": "code",
   "execution_count": 82,
   "id": "bf92c2c6",
   "metadata": {},
   "outputs": [
    {
     "name": "stdout",
     "output_type": "stream",
     "text": [
      "(<tf.Tensor: shape=(10,), dtype=int64, numpy=array([0, 1, 2, 3, 4, 5, 6, 7, 8, 9], dtype=int64)>, <tf.Tensor: shape=(10,), dtype=int64, numpy=array([100, 101, 102, 103, 104, 105, 106, 107, 108, 109], dtype=int64)>)\n"
     ]
    }
   ],
   "source": [
    "for e in batch_ds: # this continues until all elements \n",
    "    print(e) \n",
    "    break"
   ]
  },
  {
   "cell_type": "code",
   "execution_count": 80,
   "id": "1fd81189",
   "metadata": {},
   "outputs": [
    {
     "name": "stdout",
     "output_type": "stream",
     "text": [
      "(<tf.Tensor: shape=(10,), dtype=int64, numpy=array([0, 1, 2, 3, 4, 5, 6, 7, 8, 9], dtype=int64)>, <tf.Tensor: shape=(10,), dtype=int64, numpy=array([100, 101, 102, 103, 104, 105, 106, 107, 108, 109], dtype=int64)>)\n",
      "(<tf.Tensor: shape=(10,), dtype=int64, numpy=array([10, 11, 12, 13, 14, 15, 16, 17, 18, 19], dtype=int64)>, <tf.Tensor: shape=(10,), dtype=int64, numpy=array([110, 111, 112, 113, 114, 115, 116, 117, 118, 119], dtype=int64)>)\n"
     ]
    }
   ],
   "source": [
    "for e in batch_ds.take(2): # only take(n), n element within ds.\n",
    "    print(e)"
   ]
  },
  {
   "cell_type": "code",
   "execution_count": 83,
   "id": "405b523c",
   "metadata": {},
   "outputs": [
    {
     "data": {
      "text/plain": [
       "'\\nSince each element may be different length, especially in sequential models. tf provide Dataset.padded_batch\\nfunction\\n'"
      ]
     },
     "execution_count": 83,
     "metadata": {},
     "output_type": "execute_result"
    }
   ],
   "source": [
    "\"\"\"\n",
    "Since each element may be different length, especially in sequential models. tf provide Dataset.padded_batch\n",
    "function\n",
    "\"\"\"\n",
    "# dataset = tf.data.Dataset.range(100)\n",
    "# dataset = dataset.map(lambda x: tf.fill([tf.cast(x, tf.int32)], x))\n",
    "# dataset = dataset.padded_batch(4, padded_shapes=(None,))\n",
    "\n",
    "# for batch in dataset.take(2):\n",
    "#     print(batch.numpy())\n",
    "#     print()"
   ]
  },
  {
   "cell_type": "code",
   "execution_count": null,
   "id": "a8795282",
   "metadata": {},
   "outputs": [],
   "source": []
  },
  {
   "cell_type": "markdown",
   "id": "ccb98aab",
   "metadata": {},
   "source": [
    "Petastorm"
   ]
  },
  {
   "cell_type": "code",
   "execution_count": 8,
   "id": "17ebeedf",
   "metadata": {},
   "outputs": [],
   "source": [
    "rel_path = '../datasets/h&m/transaction_train_sample.parquet'"
   ]
  },
  {
   "cell_type": "code",
   "execution_count": 18,
   "id": "153584ef",
   "metadata": {},
   "outputs": [
    {
     "data": {
      "text/plain": [
       "'C:\\\\Users\\\\haneu\\\\Desktop\\\\PROJECTS\\\\Finance'"
      ]
     },
     "execution_count": 18,
     "metadata": {},
     "output_type": "execute_result"
    }
   ],
   "source": [
    "os.path.join('file://', os.getcwd())"
   ]
  },
  {
   "cell_type": "code",
   "execution_count": 32,
   "id": "a6dd5b3c",
   "metadata": {},
   "outputs": [
    {
     "data": {
      "text/plain": [
       "'file://C:\\\\Users\\\\haneu\\\\Desktop\\\\PROJECTS\\\\Finance'"
      ]
     },
     "execution_count": 32,
     "metadata": {},
     "output_type": "execute_result"
    }
   ],
   "source": [
    "'file://' + os.getcwd()"
   ]
  },
  {
   "cell_type": "code",
   "execution_count": 33,
   "id": "fda8e1b1",
   "metadata": {},
   "outputs": [
    {
     "data": {
      "text/plain": [
       "'C:\\\\Users\\\\haneu\\\\Desktop\\\\PROJECTS\\\\Finance\\\\parquet_files'"
      ]
     },
     "execution_count": 33,
     "metadata": {},
     "output_type": "execute_result"
    }
   ],
   "source": [
    "os.path.join(os.getcwd(), 'parquet_files')"
   ]
  },
  {
   "cell_type": "code",
   "execution_count": 34,
   "id": "a952bd82",
   "metadata": {},
   "outputs": [
    {
     "data": {
      "text/plain": [
       "'C:\\\\Users\\\\haneu\\\\Desktop\\\\PROJECTS\\\\Finance\\\\parquet_files'"
      ]
     },
     "execution_count": 34,
     "metadata": {},
     "output_type": "execute_result"
    }
   ],
   "source": [
    "os.path.join(\"file://\", os.path.join(os.getcwd(), 'parquet_files'))"
   ]
  },
  {
   "cell_type": "code",
   "execution_count": 56,
   "id": "6e500782",
   "metadata": {},
   "outputs": [],
   "source": [
    "from petastorm import make_reader, make_batch_reader\n",
    "from petastorm.tf_utils import make_petastorm_dataset\n",
    "\n",
    "# filepath = 'file://parquet_files'\n",
    "filepath = os.path.join(\"file://\", os.path.join(os.getcwd(), 'parquet_files'))\n",
    "filepath = \"file:///Users/haneu/Desktop/PROJECTS/Finance/parquet_files\"\n",
    "print(filepath)\n",
    "with make_reader(dataset_url=filepath) as reader:\n",
    "    for row in reader:\n",
    "        print(row)"
   ]
  },
  {
   "cell_type": "code",
   "execution_count": 77,
   "id": "febe46bb",
   "metadata": {},
   "outputs": [
    {
     "name": "stdout",
     "output_type": "stream",
     "text": [
      "WARNING:tensorflow:AutoGraph could not transform <function make_petastorm_dataset.<locals>.set_shape at 0x0000025775DA98B8> and will run it as-is.\n",
      "Please report this to the TensorFlow team. When filing the bug, set the verbosity to 10 (on Linux, `export AUTOGRAPH_VERBOSITY=10`) and attach the full output.\n",
      "Cause: 'arguments' object has no attribute 'posonlyargs'\n",
      "To silence this warning, decorate the function with @tf.autograph.experimental.do_not_convert\n",
      "WARNING: AutoGraph could not transform <function make_petastorm_dataset.<locals>.set_shape at 0x0000025775DA98B8> and will run it as-is.\n",
      "Please report this to the TensorFlow team. When filing the bug, set the verbosity to 10 (on Linux, `export AUTOGRAPH_VERBOSITY=10`) and attach the full output.\n",
      "Cause: 'arguments' object has no attribute 'posonlyargs'\n",
      "To silence this warning, decorate the function with @tf.autograph.experimental.do_not_convert\n"
     ]
    }
   ],
   "source": [
    "with make_batch_reader(dataset_url_or_urls=filepath) as reader:\n",
    "    dataset = make_petastorm_dataset(reader)\n",
    "#     for row in reader:\n",
    "#         print(row)"
   ]
  },
  {
   "cell_type": "code",
   "execution_count": 81,
   "id": "a85e0fed",
   "metadata": {},
   "outputs": [
    {
     "data": {
      "text/plain": [
       "inferred_schema_view(t_dat=TensorSpec(shape=(None,), dtype=tf.string, name=None), customer_id=TensorSpec(shape=(None,), dtype=tf.string, name=None), article_id=TensorSpec(shape=(None,), dtype=tf.int64, name=None), price=TensorSpec(shape=(None,), dtype=tf.float64, name=None), sales_channel_id=TensorSpec(shape=(None,), dtype=tf.int64, name=None))"
      ]
     },
     "execution_count": 81,
     "metadata": {},
     "output_type": "execute_result"
    }
   ],
   "source": [
    "dataset.element_spec"
   ]
  },
  {
   "cell_type": "code",
   "execution_count": 80,
   "id": "a7ff9900",
   "metadata": {},
   "outputs": [
    {
     "data": {
      "text/plain": [
       "tensorflow.python.data.ops.dataset_ops.DatasetV1Adapter"
      ]
     },
     "execution_count": 80,
     "metadata": {},
     "output_type": "execute_result"
    }
   ],
   "source": [
    "type(dataset)"
   ]
  },
  {
   "cell_type": "code",
   "execution_count": null,
   "id": "c2a57449",
   "metadata": {},
   "outputs": [],
   "source": []
  }
 ],
 "metadata": {
  "kernelspec": {
   "display_name": "Python 3 (ipykernel)",
   "language": "python",
   "name": "python3"
  },
  "language_info": {
   "codemirror_mode": {
    "name": "ipython",
    "version": 3
   },
   "file_extension": ".py",
   "mimetype": "text/x-python",
   "name": "python",
   "nbconvert_exporter": "python",
   "pygments_lexer": "ipython3",
   "version": "3.7.11"
  },
  "toc": {
   "base_numbering": 1,
   "nav_menu": {},
   "number_sections": true,
   "sideBar": true,
   "skip_h1_title": false,
   "title_cell": "Table of Contents",
   "title_sidebar": "Contents",
   "toc_cell": false,
   "toc_position": {},
   "toc_section_display": true,
   "toc_window_display": false
  }
 },
 "nbformat": 4,
 "nbformat_minor": 5
}
